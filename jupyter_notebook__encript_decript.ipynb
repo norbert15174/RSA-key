{
 "cells": [
  {
   "cell_type": "markdown",
   "metadata": {
    "id": "S6cjRclSHHsS"
   },
   "source": [
    "# 1. Importing libraries"
   ]
  },
  {
   "cell_type": "code",
   "execution_count": 20,
   "metadata": {
    "colab": {
     "base_uri": "https://localhost:8080/",
     "height": 333
    },
    "id": "JGggVTtaHHsc",
    "outputId": "af002144-d1cc-4d6c-d837-6220a6f54cd8"
   },
   "outputs": [],
   "source": [
    "import numpy as np\n",
    "import random \n",
    "import sympy\n",
    "import goto"
   ]
  },
  {
   "cell_type": "markdown",
   "metadata": {
    "id": "r8iib7aNHHse"
   },
   "source": [
    "# 2. Drawing two prime numbers"
   ]
  },
  {
   "cell_type": "code",
   "execution_count": 35,
   "metadata": {
    "id": "9YmQ1UrxHHse"
   },
   "outputs": [],
   "source": [
    "def _generate_two_prime_numbers_(a, b):\n",
    "    prime_list = [] \n",
    "    for i in range(a, b):\n",
    "        is_prime = True\n",
    "        for j in range(2, i):\n",
    "            if i % j == 0:\n",
    "                is_prime = False           \n",
    "        if is_prime == True:\n",
    "            prime_list.append(i)\n",
    "    return prime_list"
   ]
  },
  {
   "cell_type": "markdown",
   "metadata": {
    "id": "yU8JWIWUHHsf"
   },
   "source": [
    "# 3. Checking numbers"
   ]
  },
  {
   "cell_type": "code",
   "execution_count": 36,
   "metadata": {
    "id": "F-155_CfHHsg"
   },
   "outputs": [],
   "source": [
    "prime_numbers = random.choices((_generate_two_prime_numbers_(100, 1000)), k=2)\n",
    "checkpoint = []\n",
    "\n",
    "def _is_different_(prime_numbers, checkpoint):\n",
    "    if prime_numbers[0] == prime_numbers[1]:\n",
    "        return checkpoint.append(False)\n",
    "    else:\n",
    "        return checkpoint.append(True)\n",
    "    \n",
    "def _is_integer_(prime_numbers, checkpoint):\n",
    "    _is_different_(prime_numbers, checkpoint)\n",
    "    for i in range(len(prime_numbers)):\n",
    "        if (np.floor(prime_numbers[i]) - prime_numbers[i] == 0):\n",
    "            checkpoint.append(True)\n",
    "        else:\n",
    "            checkpoint.append(False)\n",
    "    return checkpoint\n",
    "\n",
    "def _is_prime_(prime_numbers, checkpoint):\n",
    "    _is_integer_ (prime_numbers, checkpoint)\n",
    "    for i in range(len(prime_numbers)):\n",
    "        if (sympy.isprime(prime_numbers[0]) == True):\n",
    "            checkpoint.append(True) \n",
    "        else:\n",
    "            checkpoint.append(False)\n",
    "    return checkpoint\n",
    "\n",
    "_is_prime_(prime_numbers, checkpoint)\n",
    "for temp in range(len(checkpoint)):\n",
    "    if (checkpoint[temp] == False):\n",
    "        goto *prime_numbers\n",
    "\n",
    "def _GCD_(a, b):\n",
    "    if b == 0:\n",
    "        return a\n",
    "    else:\n",
    "        return _GCD_(b, a%b)\n",
    "    \n",
    "def _LCM_(a, b):\n",
    "    temp = np.floor((a * b) // _GCD_(a, b))\n",
    "    return temp"
   ]
  },
  {
   "cell_type": "markdown",
   "metadata": {
    "id": "SmB9MrT-HHsh"
   },
   "source": [
    "# 4. RSA module"
   ]
  },
  {
   "cell_type": "code",
   "execution_count": 37,
   "metadata": {
    "id": "5CRibaaNHHsi"
   },
   "outputs": [],
   "source": [
    "rsa_module = prime_numbers[0] * prime_numbers[1]"
   ]
  },
  {
   "cell_type": "markdown",
   "metadata": {
    "id": "WMJ0r15OHHsi"
   },
   "source": [
    "# 5. Public RSA exponent"
   ]
  },
  {
   "cell_type": "code",
   "execution_count": 38,
   "metadata": {
    "id": "PEdTzcOZHHsi"
   },
   "outputs": [],
   "source": [
    "pub_rsa_exp = 0\n",
    "check_pub_rsa_exp = 0\n",
    "while check_pub_rsa_exp != 1:\n",
    "    pub_rsa_exp = random.randint(9999, ((prime_numbers[0] - 1) * (prime_numbers[1] - 1)))\n",
    "    check_pub_rsa_exp = _GCD_(pub_rsa_exp, _LCM_((prime_numbers[0] - 1), (prime_numbers[1] - 1)))"
   ]
  },
  {
   "cell_type": "markdown",
   "metadata": {
    "id": "lpCpFW6WHHsj"
   },
   "source": [
    "# 6. Private RSA exponent"
   ]
  },
  {
   "cell_type": "code",
   "execution_count": 44,
   "metadata": {
    "id": "hdGiBd7rHHsk"
   },
   "outputs": [],
   "source": [
    "def _PRIVATE_RSA_EXP_GEN(prime_q,prime_p,pub_rsa_exp):\n",
    "    #Calculating LCM of two primes numbers used in public RSA exponent\n",
    "    prime_number_LCM = _LCM_(prime_q,prime_p)\n",
    "    #Initialing value of factors\n",
    "    euklides_factor = 1\n",
    "    priv_rsa_exp = 1\n",
    "    ## Calculating the GCD of the public exponent RSA and LCM of the quoted prime numbers\n",
    "    prime_rsa_number_gcd = (prime_q-1)*(prime_p-1)\n",
    "    while 1:\n",
    "        if((priv_rsa_exp*pub_rsa_exp)%prime_rsa_number_gcd==1):\n",
    "            break\n",
    "        else:\n",
    "            priv_rsa_exp+=1\n",
    "\n",
    "    return priv_rsa_exp\n",
    "priv_rsa_exp = _PRIVATE_RSA_EXP_GEN(prime_numbers[0], prime_numbers[1], pub_rsa_exp)\n",
    "\n"
   ]
  },
  {
   "cell_type": "markdown",
   "metadata": {
    "id": "G8RLJbUeHHsk"
   },
   "source": [
    "# 7. Encryption"
   ]
  },
  {
   "cell_type": "code",
   "execution_count": 45,
   "metadata": {
    "colab": {
     "base_uri": "https://localhost:8080/"
    },
    "id": "07wzzYJsHHsl",
    "outputId": "bede42cc-5d21-46ab-d93f-ac411b767229"
   },
   "outputs": [
    {
     "name": "stdout",
     "output_type": "stream",
     "text": [
      "Text converted to numerical values:  [100, 97, 110, 101, 32, 100, 111, 32, 101, 110, 107, 114, 121, 112, 116, 97]\n",
      "Encrypted text:  [63477, 28279, 100204, 127999, 5189, 63477, 26948, 5189, 127999, 100204, 91089, 52695, 115437, 18833, 7739, 28279]\n"
     ]
    }
   ],
   "source": [
    "text_to_encrypt = \"dane do enkrypta\"\n",
    "\n",
    "\n",
    "def _toASCII_(text):\n",
    "  ASCII_i = [None]*len(text)\n",
    "  for i in range(len(text)):\n",
    "    ASCII_i[i] = ord(text[i])\n",
    "  return ASCII_i\n",
    "\n",
    "converted_text = _toASCII_(text_to_encrypt)\n",
    "\n",
    "print(\"Text converted to numerical values: \", converted_text)\n",
    "\n",
    "def _encription_(rsa_module, pub_rsa_exp, text):\n",
    "  for i in range(len(text)):\n",
    "    text[i] = (text[i]**pub_rsa_exp)%rsa_module\n",
    "  return text\n",
    "\n",
    "encrypted_text = _encription_(rsa_module ,pub_rsa_exp , converted_text)\n",
    "\n",
    "print(\"Encrypted text: \", encrypted_text)"
   ]
  },
  {
   "cell_type": "markdown",
   "metadata": {
    "id": "7TxcB0-jHHsm"
   },
   "source": [
    "# 8. Decryption"
   ]
  },
  {
   "cell_type": "code",
   "execution_count": 46,
   "metadata": {
    "colab": {
     "base_uri": "https://localhost:8080/"
    },
    "id": "-meSg4jEHHsn",
    "outputId": "80c0ba7d-b23f-46d3-d1b7-4fb92bea1b8d"
   },
   "outputs": [
    {
     "name": "stdout",
     "output_type": "stream",
     "text": [
      "dane do enkrypta\n"
     ]
    }
   ],
   "source": [
    "def _decryption_(text, rsa_module, priv_rsa_exp):\n",
    "  for i in range(len(text)):\n",
    "    text[i] = (text[i]**priv_rsa_exp)%rsa_module\n",
    "  return text\n",
    "\n",
    "decrypted_text = _decryption_(encrypted_text, rsa_module, priv_rsa_exp)\n",
    "\n",
    "def _toText_(text):\n",
    "  ASCII_i = [None]*len(text)\n",
    "  for i in range(len(text)):\n",
    "    ASCII_i[i] = chr(text[i])\n",
    "  return ASCII_i\n",
    "\n",
    "back_to_text = _toText_(decrypted_text)\n",
    "\n",
    "def _joinArrayToText_(array):\n",
    "  final_string =\"\"\n",
    "  for c in array:\n",
    "    final_string += c\n",
    "  return final_string\n",
    "\n",
    "print(_joinArrayToText_(back_to_text))"
   ]
  }
 ],
 "metadata": {
  "colab": {
   "collapsed_sections": [],
   "name": "jupyter_notebook.ipynb",
   "provenance": []
  },
  "kernelspec": {
   "display_name": "Python 3",
   "language": "python",
   "name": "python3"
  },
  "language_info": {
   "codemirror_mode": {
    "name": "ipython",
    "version": 3
   },
   "file_extension": ".py",
   "mimetype": "text/x-python",
   "name": "python",
   "nbconvert_exporter": "python",
   "pygments_lexer": "ipython3",
   "version": "3.9.4"
  }
 },
 "nbformat": 4,
 "nbformat_minor": 1
}
