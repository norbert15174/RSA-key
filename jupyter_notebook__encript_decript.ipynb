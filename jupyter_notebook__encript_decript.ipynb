{
  "nbformat": 4,
  "nbformat_minor": 0,
  "metadata": {
    "kernelspec": {
      "display_name": "Python 3",
      "language": "python",
      "name": "python3"
    },
    "language_info": {
      "codemirror_mode": {
        "name": "ipython",
        "version": 3
      },
      "file_extension": ".py",
      "mimetype": "text/x-python",
      "name": "python",
      "nbconvert_exporter": "python",
      "pygments_lexer": "ipython3",
      "version": "3.9.4"
    },
    "colab": {
      "name": "jupyter_notebook.ipynb",
      "provenance": [],
      "collapsed_sections": []
    }
  },
  "cells": [
    {
      "cell_type": "markdown",
      "metadata": {
        "id": "S6cjRclSHHsS"
      },
      "source": [
        "# 1. Importing libraries"
      ]
    },
    {
      "cell_type": "code",
      "metadata": {
        "colab": {
          "base_uri": "https://localhost:8080/",
          "height": 333
        },
        "id": "JGggVTtaHHsc",
        "outputId": "af002144-d1cc-4d6c-d837-6220a6f54cd8"
      },
      "source": [
        "import numpy as np\n",
        "import random \n",
        "import sympy\n",
        "import goto"
      ],
      "execution_count": 55,
      "outputs": [
        {
          "output_type": "error",
          "ename": "ModuleNotFoundError",
          "evalue": "ignored",
          "traceback": [
            "\u001b[0;31m---------------------------------------------------------------------------\u001b[0m",
            "\u001b[0;31mModuleNotFoundError\u001b[0m                       Traceback (most recent call last)",
            "\u001b[0;32m<ipython-input-55-c25d55cdf6da>\u001b[0m in \u001b[0;36m<module>\u001b[0;34m()\u001b[0m\n\u001b[1;32m      2\u001b[0m \u001b[0;32mimport\u001b[0m \u001b[0mrandom\u001b[0m\u001b[0;34m\u001b[0m\u001b[0;34m\u001b[0m\u001b[0m\n\u001b[1;32m      3\u001b[0m \u001b[0;32mimport\u001b[0m \u001b[0msympy\u001b[0m\u001b[0;34m\u001b[0m\u001b[0;34m\u001b[0m\u001b[0m\n\u001b[0;32m----> 4\u001b[0;31m \u001b[0;32mimport\u001b[0m \u001b[0mgoto\u001b[0m\u001b[0;34m\u001b[0m\u001b[0;34m\u001b[0m\u001b[0m\n\u001b[0m",
            "\u001b[0;31mModuleNotFoundError\u001b[0m: No module named 'goto'",
            "",
            "\u001b[0;31m---------------------------------------------------------------------------\u001b[0;32m\nNOTE: If your import is failing due to a missing package, you can\nmanually install dependencies using either !pip or !apt.\n\nTo view examples of installing some common dependencies, click the\n\"Open Examples\" button below.\n\u001b[0;31m---------------------------------------------------------------------------\u001b[0m\n"
          ]
        }
      ]
    },
    {
      "cell_type": "markdown",
      "metadata": {
        "id": "r8iib7aNHHse"
      },
      "source": [
        "# 2. Drawing two prime numbers"
      ]
    },
    {
      "cell_type": "code",
      "metadata": {
        "id": "9YmQ1UrxHHse"
      },
      "source": [
        "def _generate_two_prime_numbers_(a, b):\n",
        "    prime_list = [] \n",
        "    for i in range(a, b):\n",
        "        is_prime = True\n",
        "        for j in range(2, i):\n",
        "            if i % j == 0:\n",
        "                is_prime = False           \n",
        "        if is_prime == True:\n",
        "            prime_list.append(i)\n",
        "    return prime_list"
      ],
      "execution_count": 89,
      "outputs": []
    },
    {
      "cell_type": "markdown",
      "metadata": {
        "id": "yU8JWIWUHHsf"
      },
      "source": [
        "# 3. Checking numbers"
      ]
    },
    {
      "cell_type": "code",
      "metadata": {
        "id": "F-155_CfHHsg"
      },
      "source": [
        "prime_numbers = random.choices((_generate_two_prime_numbers_(100, 1000)), k=2)\n",
        "checkpoint = []\n",
        "\n",
        "def _is_different_(prime_numbers, checkpoint):\n",
        "    if prime_numbers[0] == prime_numbers[1]:\n",
        "        return checkpoint.append(False)\n",
        "    else:\n",
        "        return checkpoint.append(True)\n",
        "    \n",
        "def _is_integer_(prime_numbers, checkpoint):\n",
        "    _is_different_(prime_numbers, checkpoint)\n",
        "    for i in range(len(prime_numbers)):\n",
        "        if (np.floor(prime_numbers[i]) - prime_numbers[i] == 0):\n",
        "            checkpoint.append(True)\n",
        "        else:\n",
        "            checkpoint.append(False)\n",
        "    return checkpoint\n",
        "\n",
        "def _is_prime_(prime_numbers, checkpoint):\n",
        "    _is_integer_ (prime_numbers, checkpoint)\n",
        "    for i in range(len(prime_numbers)):\n",
        "        if (sympy.isprime(prime_numbers[0]) == True):\n",
        "            checkpoint.append(True) \n",
        "        else:\n",
        "            checkpoint.append(False)\n",
        "    return checkpoint\n",
        "\n",
        "_is_prime_(prime_numbers, checkpoint)\n",
        "for temp in range(len(checkpoint)):\n",
        "    if (checkpoint[temp] == False):\n",
        "        goto *prime_numbers\n",
        "\n",
        "def _GCD_(a, b):\n",
        "    if b == 0:\n",
        "        return a\n",
        "    else:\n",
        "        return _GCD_(b, a%b)\n",
        "    \n",
        "def _LCM_(a, b):\n",
        "    temp = np.floor((a * b) // _GCD_(a, b))\n",
        "    return temp"
      ],
      "execution_count": 90,
      "outputs": []
    },
    {
      "cell_type": "markdown",
      "metadata": {
        "id": "SmB9MrT-HHsh"
      },
      "source": [
        "# 4. RSA module"
      ]
    },
    {
      "cell_type": "code",
      "metadata": {
        "id": "5CRibaaNHHsi"
      },
      "source": [
        "rsa_module = prime_numbers[0] * prime_numbers[1]"
      ],
      "execution_count": 91,
      "outputs": []
    },
    {
      "cell_type": "markdown",
      "metadata": {
        "id": "WMJ0r15OHHsi"
      },
      "source": [
        "# 5. Public RSA exponent"
      ]
    },
    {
      "cell_type": "code",
      "metadata": {
        "id": "PEdTzcOZHHsi"
      },
      "source": [
        "pub_rsa_exp = 0\n",
        "check_pub_rsa_exp = 0\n",
        "while check_pub_rsa_exp != 1:\n",
        "    pub_rsa_exp = random.randint(9999, ((prime_numbers[0] - 1) * (prime_numbers[1] - 1)))\n",
        "    check_pub_rsa_exp = _GCD_(pub_rsa_exp, _LCM_((prime_numbers[0] - 1), (prime_numbers[1] - 1)))"
      ],
      "execution_count": 92,
      "outputs": []
    },
    {
      "cell_type": "markdown",
      "metadata": {
        "id": "lpCpFW6WHHsj"
      },
      "source": [
        "# 6. Private RSA exponent"
      ]
    },
    {
      "cell_type": "code",
      "metadata": {
        "id": "hdGiBd7rHHsk"
      },
      "source": [
        "def _PRIVATE_RSA_EXP_GEN(prime_q,prime_p,pub_rsa_exp):\n",
        "    #Calculating LCM of two primes numbers used in public RSA exponent\n",
        "    prime_number_LCM = _LCM_(prime_q,prime_p)\n",
        "    #Initialing value of factors\n",
        "    euklides_factor = 1\n",
        "    priv_rsa_exp = 1\n",
        "    ## Calculating the GCD of the public exponent RSA and LCM of the quoted prime numbers\n",
        "    prime_rsa_number_gcd = _GCD_(prime_number_LCM-1,pub_rsa_exp-1)\n",
        "    #Calculating value of private RSA exponent\n",
        "    while 1:\n",
        "        #Check if the value of the Euclidean equation is not greater than GCD, if so, the Euclidean factor is incremented thanks to that the value of the equation is lowered\n",
        "        if np.absolute(euklides_factor*prime_number_LCM-priv_rsa_exp*pub_rsa_exp) < prime_rsa_number_gcd or (euklides_factor*prime_number_LCM-priv_rsa_exp*pub_rsa_exp) < 0:\n",
        "            euklides_factor+=1\n",
        "        #Check if the value of the Euclidean equation is not lower than GCD, if so, the RSA private exponent is incremented\n",
        "        elif np.absolute(euklides_factor*prime_number_LCM-priv_rsa_exp*pub_rsa_exp) > prime_rsa_number_gcd:\n",
        "            priv_rsa_exp+=1\n",
        "        #If equation is equal GCD, the private RSA exponent has been calculated and the loop will be break\n",
        "        else:\n",
        "            break\n",
        "    return priv_rsa_exp\n",
        "\n",
        "priv_rsa_exp = _PRIVATE_RSA_EXP_GEN(prime_numbers[0], prime_numbers[1], pub_rsa_exp)\n"
      ],
      "execution_count": 93,
      "outputs": []
    },
    {
      "cell_type": "markdown",
      "metadata": {
        "id": "G8RLJbUeHHsk"
      },
      "source": [
        "# 7. Encryption"
      ]
    },
    {
      "cell_type": "code",
      "metadata": {
        "colab": {
          "base_uri": "https://localhost:8080/"
        },
        "id": "07wzzYJsHHsl",
        "outputId": "bede42cc-5d21-46ab-d93f-ac411b767229"
      },
      "source": [
        "text_to_encrypt = \"dupadupa Dd\"\n",
        "\n",
        "\n",
        "def _toASCII_(text):\n",
        "  ASCII_i = [None]*len(text)\n",
        "  for i in range(len(text)):\n",
        "    ASCII_i[i] = ord(text[i])\n",
        "  return ASCII_i\n",
        "\n",
        "converted_text = _toASCII_(text_to_encrypt)\n",
        "\n",
        "print(\"Text converted to numerical values: \", converted_text)\n",
        "\n",
        "def _encription_(rsa_module, pub_rsa_exp, text):\n",
        "  for i in range(len(text)):\n",
        "    text[i] = (text[i]**pub_rsa_exp)%rsa_module\n",
        "  return text\n",
        "\n",
        "encrypted_text = _encription_(rsa_module ,pub_rsa_exp , converted_text)\n",
        "\n",
        "print(\"Encrypted text: \", encrypted_text)"
      ],
      "execution_count": 94,
      "outputs": [
        {
          "output_type": "stream",
          "text": [
            "Text converted to numerical values:  [100, 117, 112, 97, 100, 117, 112, 97, 32, 68, 100]\n",
            "Encrypted text:  [39282, 44552, 30386, 10024, 39282, 44552, 30386, 10024, 43094, 4770, 39282]\n"
          ],
          "name": "stdout"
        }
      ]
    },
    {
      "cell_type": "markdown",
      "metadata": {
        "id": "7TxcB0-jHHsm"
      },
      "source": [
        "# 8. Decryption"
      ]
    },
    {
      "cell_type": "code",
      "metadata": {
        "colab": {
          "base_uri": "https://localhost:8080/"
        },
        "id": "-meSg4jEHHsn",
        "outputId": "80c0ba7d-b23f-46d3-d1b7-4fb92bea1b8d"
      },
      "source": [
        "def _decryption_(text, rsa_module, priv_rsa_exp):\n",
        "  for i in range(len(text)):\n",
        "    text[i] = (text[i]**priv_rsa_exp)%rsa_module\n",
        "  return text\n",
        "\n",
        "decrypted_text = _decryption_(encrypted_text, rsa_module, priv_rsa_exp)\n",
        "\n",
        "def _toText_(text):\n",
        "  ASCII_i = [None]*len(text)\n",
        "  for i in range(len(text)):\n",
        "    ASCII_i[i] = chr(text[i])\n",
        "  return ASCII_i\n",
        "\n",
        "back_to_text = _toText_(decrypted_text)\n",
        "\n",
        "def _joinArrayToText_(array):\n",
        "  final_string =\"\"\n",
        "  for c in array:\n",
        "    final_string += c\n",
        "  return final_string\n",
        "\n",
        "print(_joinArrayToText_(back_to_text))"
      ],
      "execution_count": 95,
      "outputs": [
        {
          "output_type": "stream",
          "text": [
            "㧱횼ᠦ艛㧱횼ᠦ艛⹋ⷽ㧱\n"
          ],
          "name": "stdout"
        }
      ]
    }
  ]
}