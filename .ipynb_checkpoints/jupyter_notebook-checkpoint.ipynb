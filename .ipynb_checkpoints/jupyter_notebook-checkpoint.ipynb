{
 "cells": [
  {
   "cell_type": "markdown",
   "metadata": {},
   "source": [
    "# 1. Importing libraries"
   ]
  },
  {
   "cell_type": "code",
   "execution_count": 1,
   "metadata": {},
   "outputs": [],
   "source": [
    "import numpy as np\n",
    "import random \n",
    "import sympy\n",
    "import goto"
   ]
  },
  {
   "cell_type": "markdown",
   "metadata": {},
   "source": [
    "# 2. Drawing two prime numbers"
   ]
  },
  {
   "cell_type": "code",
   "execution_count": 2,
   "metadata": {},
   "outputs": [],
   "source": [
    "def _generate_two_prime_numbers_(a, b):\n",
    "    prime_list = [] \n",
    "    for i in range(a, b):\n",
    "        is_prime = True\n",
    "        for j in range(2, i):\n",
    "            if i % j == 0:\n",
    "                is_prime = False           \n",
    "        if is_prime == True:\n",
    "            prime_list.append(i)\n",
    "    return prime_list"
   ]
  },
  {
   "cell_type": "markdown",
   "metadata": {},
   "source": [
    "# 3. Checking numbers"
   ]
  },
  {
   "cell_type": "code",
   "execution_count": 3,
   "metadata": {},
   "outputs": [],
   "source": [
    "prime_numbers = random.choices((_generate_two_prime_numbers_(100, 1000)), k=2)\n",
    "checkpoint = []\n",
    "\n",
    "def _is_different_(prime_numbers, checkpoint):\n",
    "    if prime_numbers[0] == prime_numbers[1]:\n",
    "        return checkpoint.append(False)\n",
    "    else:\n",
    "        return checkpoint.append(True)\n",
    "    \n",
    "def _is_integer_(prime_numbers, checkpoint):\n",
    "    _is_different_(prime_numbers, checkpoint)\n",
    "    for i in range(len(prime_numbers)):\n",
    "        if (np.floor(prime_numbers[i]) - prime_numbers[i] == 0):\n",
    "            checkpoint.append(True)\n",
    "        else:\n",
    "            checkpoint.append(False)\n",
    "    return checkpoint\n",
    "\n",
    "def _is_prime_(prime_numbers, checkpoint):\n",
    "    _is_integer_ (prime_numbers, checkpoint)\n",
    "    for i in range(len(prime_numbers)):\n",
    "        if (sympy.isprime(prime_numbers[0]) == True):\n",
    "            checkpoint.append(True) \n",
    "        else:\n",
    "            checkpoint.append(False)\n",
    "    return checkpoint\n",
    "\n",
    "_is_prime_(prime_numbers, checkpoint)\n",
    "for temp in range(len(checkpoint)):\n",
    "    if (checkpoint[temp] == False):\n",
    "        goto *prime_numbers\n",
    "\n",
    "def _GCD_(a, b):\n",
    "    if b == 0:\n",
    "        return a\n",
    "    else:\n",
    "        return _GCD_(b, a%b)\n",
    "    \n",
    "def _LCM_(a, b):\n",
    "    temp = np.floor((a * b) // _GCD_(a, b))\n",
    "    return temp"
   ]
  },
  {
   "cell_type": "markdown",
   "metadata": {},
   "source": [
    "# 4. RSA module"
   ]
  },
  {
   "cell_type": "code",
   "execution_count": 4,
   "metadata": {},
   "outputs": [],
   "source": [
    "rsa_module = prime_numbers[0] * prime_numbers[1]"
   ]
  },
  {
   "cell_type": "markdown",
   "metadata": {},
   "source": [
    "# 5. Public RSA exponent"
   ]
  },
  {
   "cell_type": "code",
   "execution_count": 5,
   "metadata": {},
   "outputs": [],
   "source": [
    "pub_rsa_exp = 0\n",
    "check_pub_rsa_exp = 0\n",
    "while check_pub_rsa_exp != 1:\n",
    "    pub_rsa_exp = random.randint(9999, ((prime_numbers[0] - 1) * (prime_numbers[1] - 1)))\n",
    "    check_pub_rsa_exp = _GCD_(pub_rsa_exp, _LCM_((prime_numbers[0] - 1), (prime_numbers[1] - 1)))"
   ]
  },
  {
   "cell_type": "markdown",
   "metadata": {},
   "source": [
    "# 6. Private RSA exponent"
   ]
  },
  {
   "cell_type": "code",
   "execution_count": null,
   "metadata": {},
   "outputs": [],
   "source": [
    "def _PRIVATE_RSA_EXP_GEN(prime_q,prime_p,pub_rsa_exp):\n",
    "    #Calculating LCM of two primes numbers used in public RSA exponent\n",
    "    prime_number_LCM = _LCM_(prime_q,prime_p)\n",
    "    #Initialing value of factors\n",
    "    euklides_factor = 1\n",
    "    priv_rsa_exp = 1\n",
    "    ## Calculating the GCD of the public exponent RSA and LCM of the quoted prime numbers\n",
    "    prime_rsa_number_gcd = _GCD_(prime_number_LCM-1,pub_rsa_exp-1)\n",
    "    #Calculating value of private RSA exponent\n",
    "    while 1:\n",
    "        #Check if the value of the Euclidean equation is not greater than GCD, if so, the Euclidean factor is incremented thanks to that the value of the equation is lowered\n",
    "        if np.absolute(euklides_factor*prime_number_LCM-priv_rsa_exp*pub_rsa_exp) < prime_rsa_number_gcd or (euklides_factor*prime_number_LCM-priv_rsa_exp*pub_rsa_exp) < 0:\n",
    "            euklides_factor+=1\n",
    "        #Check if the value of the Euclidean equation is not lower than GCD, if so, the RSA private exponent is incremented\n",
    "        elif np.absolute(euklides_factor*prime_number_LCM-priv_rsa_exp*pub_rsa_exp) > prime_rsa_number_gcd:\n",
    "            priv_rsa_exp+=1\n",
    "        #If equation is equal GCD, the private RSA exponent has been calculated and the loop will be break\n",
    "        else:\n",
    "            break\n",
    "    return priv_rsa_exp\n"
   ]
  },
  {
   "cell_type": "markdown",
   "metadata": {},
   "source": [
    "# 7. Encryption"
   ]
  },
  {
   "cell_type": "code",
   "execution_count": null,
   "metadata": {},
   "outputs": [],
   "source": []
  },
  {
   "cell_type": "markdown",
   "metadata": {},
   "source": [
    "# 8. Decryption"
   ]
  },
  {
   "cell_type": "code",
   "execution_count": null,
   "metadata": {},
   "outputs": [],
   "source": []
  }
 ],
 "metadata": {
  "kernelspec": {
   "display_name": "Python 3",
   "language": "python",
   "name": "python3"
  },
  "language_info": {
   "codemirror_mode": {
    "name": "ipython",
    "version": 3
   },
   "file_extension": ".py",
   "mimetype": "text/x-python",
   "name": "python",
   "nbconvert_exporter": "python",
   "pygments_lexer": "ipython3",
   "version": "3.9.4"
  }
 },
 "nbformat": 4,
 "nbformat_minor": 4
}
